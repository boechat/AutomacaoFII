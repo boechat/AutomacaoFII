{
 "cells": [
  {
   "cell_type": "markdown",
   "id": "c21c4816",
   "metadata": {},
   "source": [
    "<h1>Python + Selenium </h1>\n",
    "\n",
    "* Instalar o Selenium\n",
    "#abrir o prompt e dar pip install selenium\n",
    "* Baixar o WebDriver (chromedriver)\n",
    "<br>#webdriver é um arquivo que vai permitir o python a integrar ao navegador; para isso é necessário pegar o webdriver dos navegadores distintos que vc irá usar.\n",
    "<br>#colocar o arquivo onde está instalado o python(python.exe), no caso em C:\\Users\\User\\anaconda3\\"
   ]
  },
  {
   "cell_type": "code",
   "execution_count": null,
   "id": "ce4a274e",
   "metadata": {},
   "outputs": [],
   "source": [
    "from selenium import webdriver\n",
    "navegador = webdriver.Chrome()\n",
    "##navegador.get vai até uma pagina\n",
    "site_investimento = (\"https://fiis.com.br/\")\n",
    "#print(site_investimento)\n",
    "navegador.get(site_investimento)\n",
    "##procura pelo xpath e clica\n",
    "#navegador.find_element(\"xpath\", '//*[@id=\"fii-section\"]/div/div/div[2]/div[3]/div/div[1]/div[2]/div/span').click()"
   ]
  },
  {
   "cell_type": "markdown",
   "id": "d65ed71c",
   "metadata": {},
   "source": [
    "Depois de criarmos a estrutura do webdriver para acessar a página, iremos importar o Pandas e criaremos um dataFrame com os ativos que precisaremos pesquisar. Esses ativos servirão também de sufixos para a url do site_investimento.\n",
    "\n",
    "Poderíamos fazer isso importando um csv com a lista."
   ]
  },
  {
   "cell_type": "code",
   "execution_count": null,
   "id": "81d0ba64",
   "metadata": {},
   "outputs": [
    {
     "data": {
      "text/html": [
       "<div>\n",
       "<style scoped>\n",
       "    .dataframe tbody tr th:only-of-type {\n",
       "        vertical-align: middle;\n",
       "    }\n",
       "\n",
       "    .dataframe tbody tr th {\n",
       "        vertical-align: top;\n",
       "    }\n",
       "\n",
       "    .dataframe thead th {\n",
       "        text-align: right;\n",
       "    }\n",
       "</style>\n",
       "<table border=\"1\" class=\"dataframe\">\n",
       "  <thead>\n",
       "    <tr style=\"text-align: right;\">\n",
       "      <th></th>\n",
       "      <th>nome</th>\n",
       "    </tr>\n",
       "  </thead>\n",
       "  <tbody>\n",
       "    <tr>\n",
       "      <th>0</th>\n",
       "      <td>AFHI11</td>\n",
       "    </tr>\n",
       "    <tr>\n",
       "      <th>1</th>\n",
       "      <td>SDIL11</td>\n",
       "    </tr>\n",
       "    <tr>\n",
       "      <th>2</th>\n",
       "      <td>XPML11</td>\n",
       "    </tr>\n",
       "    <tr>\n",
       "      <th>3</th>\n",
       "      <td>IRDM11</td>\n",
       "    </tr>\n",
       "    <tr>\n",
       "      <th>4</th>\n",
       "      <td>RBVA11</td>\n",
       "    </tr>\n",
       "    <tr>\n",
       "      <th>5</th>\n",
       "      <td>RBED11</td>\n",
       "    </tr>\n",
       "    <tr>\n",
       "      <th>6</th>\n",
       "      <td>FLMA11</td>\n",
       "    </tr>\n",
       "    <tr>\n",
       "      <th>7</th>\n",
       "      <td>TRXF11</td>\n",
       "    </tr>\n",
       "    <tr>\n",
       "      <th>8</th>\n",
       "      <td>HGRU11</td>\n",
       "    </tr>\n",
       "    <tr>\n",
       "      <th>9</th>\n",
       "      <td>TRBL11</td>\n",
       "    </tr>\n",
       "    <tr>\n",
       "      <th>10</th>\n",
       "      <td>KNSC11</td>\n",
       "    </tr>\n",
       "    <tr>\n",
       "      <th>11</th>\n",
       "      <td>MALL11</td>\n",
       "    </tr>\n",
       "  </tbody>\n",
       "</table>\n",
       "</div>"
      ],
      "text/plain": [
       "      nome\n",
       "0   AFHI11\n",
       "1   SDIL11\n",
       "2   XPML11\n",
       "3   IRDM11\n",
       "4   RBVA11\n",
       "5   RBED11\n",
       "6   FLMA11\n",
       "7   TRXF11\n",
       "8   HGRU11\n",
       "9   TRBL11\n",
       "10  KNSC11\n",
       "11  MALL11"
      ]
     },
     "metadata": {},
     "output_type": "display_data"
    }
   ],
   "source": [
    "import pandas as pd\n",
    "#Criaremos um dataframe coms os ativos que vão ser pesquisados\n",
    "ativos = pd.DataFrame({\"nome\":[\"AFHI11\",\"SDIL11\",\"XPML11\",\"IRDM11\",\"RBVA11\",\"RBED11\",\"FLMA11\",\"TRXF11\",\"HGRU11\",\"TRBL11\",\"KNSC11\",\"MALL11\"]})\n",
    "ativos"
   ]
  },
  {
   "cell_type": "markdown",
   "id": "f81897bd",
   "metadata": {},
   "source": [
    "Depois de ter criado a estrutura de ativos que serão pesquisados, vamos fazer uma iteração que vai acessar o site_investimento/ com o sufixo dos Ativos criados no bloco anterior.\n",
    "\n",
    "Para isso importaremos da biblioteca do webdriver o **By**, para podermos achar o elemento do xPath da página. Como o que vamos puxar agora é uma tabela, também poderia ser feito através do CLASSNAME.\n",
    "\n",
    "Ao puxar o elemento, vamos transformá-lo em um texto e começaremos a tratá-lo, transformando no Dataframe **df**.\n"
   ]
  },
  {
   "cell_type": "code",
   "execution_count": null,
   "id": "4b9c340d",
   "metadata": {},
   "outputs": [
    {
     "name": "stdout",
     "output_type": "stream",
     "text": [
      "AFHI11 Rendeu no Ultimo mês 1,05\n"
     ]
    },
    {
     "name": "stderr",
     "output_type": "stream",
     "text": [
      "C:\\Users\\User\\AppData\\Local\\Temp\\ipykernel_7688\\4254564762.py:65: FutureWarning: The frame.append method is deprecated and will be removed from pandas in a future version. Use pandas.concat instead.\n",
      "  result_df = result_df.append(coluna_df, ignore_index=True)\n",
      "C:\\Users\\User\\AppData\\Local\\Temp\\ipykernel_7688\\4254564762.py:73: FutureWarning: The frame.append method is deprecated and will be removed from pandas in a future version. Use pandas.concat instead.\n",
      "  integra_df = integra_df.append(result_df, ignore_index=True)\n"
     ]
    },
    {
     "name": "stdout",
     "output_type": "stream",
     "text": [
      "SDIL11 Rendeu no Ultimo mês 0,75\n"
     ]
    },
    {
     "name": "stderr",
     "output_type": "stream",
     "text": [
      "C:\\Users\\User\\AppData\\Local\\Temp\\ipykernel_7688\\4254564762.py:65: FutureWarning: The frame.append method is deprecated and will be removed from pandas in a future version. Use pandas.concat instead.\n",
      "  result_df = result_df.append(coluna_df, ignore_index=True)\n",
      "C:\\Users\\User\\AppData\\Local\\Temp\\ipykernel_7688\\4254564762.py:73: FutureWarning: The frame.append method is deprecated and will be removed from pandas in a future version. Use pandas.concat instead.\n",
      "  integra_df = integra_df.append(result_df, ignore_index=True)\n"
     ]
    },
    {
     "name": "stdout",
     "output_type": "stream",
     "text": [
      "XPML11 Rendeu no Ultimo mês 0,85\n"
     ]
    },
    {
     "name": "stderr",
     "output_type": "stream",
     "text": [
      "C:\\Users\\User\\AppData\\Local\\Temp\\ipykernel_7688\\4254564762.py:65: FutureWarning: The frame.append method is deprecated and will be removed from pandas in a future version. Use pandas.concat instead.\n",
      "  result_df = result_df.append(coluna_df, ignore_index=True)\n",
      "C:\\Users\\User\\AppData\\Local\\Temp\\ipykernel_7688\\4254564762.py:73: FutureWarning: The frame.append method is deprecated and will be removed from pandas in a future version. Use pandas.concat instead.\n",
      "  integra_df = integra_df.append(result_df, ignore_index=True)\n"
     ]
    },
    {
     "name": "stdout",
     "output_type": "stream",
     "text": [
      "IRDM11 Rendeu no Ultimo mês 0,74\n"
     ]
    },
    {
     "name": "stderr",
     "output_type": "stream",
     "text": [
      "C:\\Users\\User\\AppData\\Local\\Temp\\ipykernel_7688\\4254564762.py:65: FutureWarning: The frame.append method is deprecated and will be removed from pandas in a future version. Use pandas.concat instead.\n",
      "  result_df = result_df.append(coluna_df, ignore_index=True)\n",
      "C:\\Users\\User\\AppData\\Local\\Temp\\ipykernel_7688\\4254564762.py:73: FutureWarning: The frame.append method is deprecated and will be removed from pandas in a future version. Use pandas.concat instead.\n",
      "  integra_df = integra_df.append(result_df, ignore_index=True)\n"
     ]
    },
    {
     "name": "stdout",
     "output_type": "stream",
     "text": [
      "RBVA11 Rendeu no Ultimo mês 1,00\n"
     ]
    },
    {
     "name": "stderr",
     "output_type": "stream",
     "text": [
      "C:\\Users\\User\\AppData\\Local\\Temp\\ipykernel_7688\\4254564762.py:65: FutureWarning: The frame.append method is deprecated and will be removed from pandas in a future version. Use pandas.concat instead.\n",
      "  result_df = result_df.append(coluna_df, ignore_index=True)\n",
      "C:\\Users\\User\\AppData\\Local\\Temp\\ipykernel_7688\\4254564762.py:73: FutureWarning: The frame.append method is deprecated and will be removed from pandas in a future version. Use pandas.concat instead.\n",
      "  integra_df = integra_df.append(result_df, ignore_index=True)\n"
     ]
    },
    {
     "name": "stdout",
     "output_type": "stream",
     "text": [
      "RBED11 Rendeu no Ultimo mês 1,43\n"
     ]
    },
    {
     "name": "stderr",
     "output_type": "stream",
     "text": [
      "C:\\Users\\User\\AppData\\Local\\Temp\\ipykernel_7688\\4254564762.py:65: FutureWarning: The frame.append method is deprecated and will be removed from pandas in a future version. Use pandas.concat instead.\n",
      "  result_df = result_df.append(coluna_df, ignore_index=True)\n",
      "C:\\Users\\User\\AppData\\Local\\Temp\\ipykernel_7688\\4254564762.py:73: FutureWarning: The frame.append method is deprecated and will be removed from pandas in a future version. Use pandas.concat instead.\n",
      "  integra_df = integra_df.append(result_df, ignore_index=True)\n"
     ]
    },
    {
     "name": "stdout",
     "output_type": "stream",
     "text": [
      "FLMA11 Rendeu no Ultimo mês 1,05\n"
     ]
    },
    {
     "name": "stderr",
     "output_type": "stream",
     "text": [
      "C:\\Users\\User\\AppData\\Local\\Temp\\ipykernel_7688\\4254564762.py:65: FutureWarning: The frame.append method is deprecated and will be removed from pandas in a future version. Use pandas.concat instead.\n",
      "  result_df = result_df.append(coluna_df, ignore_index=True)\n",
      "C:\\Users\\User\\AppData\\Local\\Temp\\ipykernel_7688\\4254564762.py:73: FutureWarning: The frame.append method is deprecated and will be removed from pandas in a future version. Use pandas.concat instead.\n",
      "  integra_df = integra_df.append(result_df, ignore_index=True)\n"
     ]
    },
    {
     "name": "stdout",
     "output_type": "stream",
     "text": [
      "TRXF11 Rendeu no Ultimo mês 0,90\n"
     ]
    },
    {
     "name": "stderr",
     "output_type": "stream",
     "text": [
      "C:\\Users\\User\\AppData\\Local\\Temp\\ipykernel_7688\\4254564762.py:65: FutureWarning: The frame.append method is deprecated and will be removed from pandas in a future version. Use pandas.concat instead.\n",
      "  result_df = result_df.append(coluna_df, ignore_index=True)\n",
      "C:\\Users\\User\\AppData\\Local\\Temp\\ipykernel_7688\\4254564762.py:73: FutureWarning: The frame.append method is deprecated and will be removed from pandas in a future version. Use pandas.concat instead.\n",
      "  integra_df = integra_df.append(result_df, ignore_index=True)\n"
     ]
    },
    {
     "name": "stdout",
     "output_type": "stream",
     "text": [
      "HGRU11 Rendeu no Ultimo mês 0,85\n"
     ]
    },
    {
     "name": "stderr",
     "output_type": "stream",
     "text": [
      "C:\\Users\\User\\AppData\\Local\\Temp\\ipykernel_7688\\4254564762.py:65: FutureWarning: The frame.append method is deprecated and will be removed from pandas in a future version. Use pandas.concat instead.\n",
      "  result_df = result_df.append(coluna_df, ignore_index=True)\n",
      "C:\\Users\\User\\AppData\\Local\\Temp\\ipykernel_7688\\4254564762.py:73: FutureWarning: The frame.append method is deprecated and will be removed from pandas in a future version. Use pandas.concat instead.\n",
      "  integra_df = integra_df.append(result_df, ignore_index=True)\n"
     ]
    },
    {
     "name": "stdout",
     "output_type": "stream",
     "text": [
      "TRBL11 Rendeu no Ultimo mês 0,72\n"
     ]
    },
    {
     "name": "stderr",
     "output_type": "stream",
     "text": [
      "C:\\Users\\User\\AppData\\Local\\Temp\\ipykernel_7688\\4254564762.py:65: FutureWarning: The frame.append method is deprecated and will be removed from pandas in a future version. Use pandas.concat instead.\n",
      "  result_df = result_df.append(coluna_df, ignore_index=True)\n",
      "C:\\Users\\User\\AppData\\Local\\Temp\\ipykernel_7688\\4254564762.py:73: FutureWarning: The frame.append method is deprecated and will be removed from pandas in a future version. Use pandas.concat instead.\n",
      "  integra_df = integra_df.append(result_df, ignore_index=True)\n"
     ]
    },
    {
     "name": "stdout",
     "output_type": "stream",
     "text": [
      "KNSC11 Rendeu no Ultimo mês 0,75\n"
     ]
    },
    {
     "name": "stderr",
     "output_type": "stream",
     "text": [
      "C:\\Users\\User\\AppData\\Local\\Temp\\ipykernel_7688\\4254564762.py:65: FutureWarning: The frame.append method is deprecated and will be removed from pandas in a future version. Use pandas.concat instead.\n",
      "  result_df = result_df.append(coluna_df, ignore_index=True)\n",
      "C:\\Users\\User\\AppData\\Local\\Temp\\ipykernel_7688\\4254564762.py:73: FutureWarning: The frame.append method is deprecated and will be removed from pandas in a future version. Use pandas.concat instead.\n",
      "  integra_df = integra_df.append(result_df, ignore_index=True)\n"
     ]
    },
    {
     "name": "stdout",
     "output_type": "stream",
     "text": [
      "MALL11 Rendeu no Ultimo mês 0,85\n"
     ]
    },
    {
     "name": "stderr",
     "output_type": "stream",
     "text": [
      "C:\\Users\\User\\AppData\\Local\\Temp\\ipykernel_7688\\4254564762.py:65: FutureWarning: The frame.append method is deprecated and will be removed from pandas in a future version. Use pandas.concat instead.\n",
      "  result_df = result_df.append(coluna_df, ignore_index=True)\n",
      "C:\\Users\\User\\AppData\\Local\\Temp\\ipykernel_7688\\4254564762.py:73: FutureWarning: The frame.append method is deprecated and will be removed from pandas in a future version. Use pandas.concat instead.\n",
      "  integra_df = integra_df.append(result_df, ignore_index=True)\n"
     ]
    }
   ],
   "source": [
    "from selenium.webdriver.common.by import By\n",
    "#Importaremos a biblioteca By\n",
    "#from io import StringIO     # Usamos StringIO para simular um arquivo em memória\n",
    "\n",
    "integra_df = pd.DataFrame()\n",
    "#Faremos uma iteração aqui, criando o indicador IND, procurando pelo index de ativos(ativos.index)\n",
    "for ind in ativos.index:\n",
    "    pesquisa = ativos.loc[ativos.index[ind]]    #pesquisa vai guardar as infos de cada index, começando do 0\n",
    "    #print(pesquisa)                             #Veremos algo do tipo: nome    AFHI11    Name: 0, dtype: object \n",
    "    pesquisa = pesquisa['nome']                 #Como só interessa a coluna nome, iremos filtrar por ela\n",
    "    #print(pesquisa)                             #aqui teremos só a coluna nome do index, que será AFHI11\n",
    "    url = (site_investimento+pesquisa)           #Puxando o Site_investimento (fiis.com),iremos criar a string com o nome\n",
    "    #print(url)\n",
    "    navegador.get(url)                           #Puxaremos então a url  fiis.com.br/nome atual\n",
    "    #print('Novo CICLO!  ',ind)\n",
    "    \n",
    "    #Busca Elemento Na Tabela\n",
    "    tabela = navegador.find_element(By.XPATH, '//*[@id=\"carbon_fields_fiis_dividends-2\"]/div[2]/div[2]')\n",
    "    #tentar procurar com a Classe \n",
    "    #tabela = navegador.find_element(By.CLASSNAME, 'dividends-table-container')\n",
    "    texto = tabela.text\n",
    "    texto = texto.strip().split('\\n')\n",
    "    \n",
    "    df = pd.DataFrame([x.split(';') for x in texto if x])\n",
    "    ###\n",
    "    \n",
    "    ##Referencia Nome da Tabela, Com o Nome do FII\n",
    "    nome_da_tabela = df[0][0]\n",
    "    \n",
    "    ##Busca Ultimo Rendimento Apenas\n",
    "    ult_rend = navegador.find_element(By.XPATH, '//*[@id=\"carbon_fields_fiis_header-2\"]/div/div/div[1]/div[2]/div/div[2]/p[1]/b')\n",
    "    #print(pesquisa + ' Rendeu no Ultimo mês ' + ult_rend.text)\n",
    "    \n",
    "    ######### FAZ A ITERAÇÂO ############\n",
    "    de = df #Dropa a primeira linha\n",
    "    i = 0\n",
    "    c = 0\n",
    "    coluna_df = pd.DataFrame()\n",
    "    result_df = coluna_df\n",
    "    \n",
    "    for ind in de.values:\n",
    "        if i==0:\n",
    "            #print('Dropar',ind)\n",
    "            pass\n",
    "        elif i > 0 and i < 6 :\n",
    "            #print('Cabeçalho', ind)\n",
    "            coluna_df[ind] = 'None'\n",
    "            #print(coluna_df)\n",
    "        else:\n",
    "            if i ==6:\n",
    "                result_df = coluna_df\n",
    "            #print(ind, i)\n",
    "            #print(c)\n",
    "            ## Atribua os valores pelo índice da coluna\n",
    "            coluna_df[coluna_df.columns[c]] = ind\n",
    "            #print('Coluna_df : '+coluna_df)\n",
    "            #print('Coluna_df Posição : '+coluna_df.columns[c])\n",
    "            #print('Coluna_df Valor : '+ind)\n",
    "            c = c + 1\n",
    "            if c >= 5:\n",
    "                c = 0\n",
    "                result_df = result_df.append(coluna_df, ignore_index=True)\n",
    "            #print('Result_df = '+result_df)\n",
    "        i=i+1       \n",
    "    #Tiramos aqui a primeira linha da tabela, que contem lixo de informação\n",
    "    result_df = result_df.drop(range(1))\n",
    "    #Agora, criamos uma coluna inteira com o Nome do Fii correspondente\n",
    "    result_df = result_df.assign(NomeFii=pesquisa)\n",
    "    #Por fim, associamos uma nova Dataframe que recebe a Dataframe Result, podendo assim armazenar todos os dados.\n",
    "    integra_df = integra_df.append(result_df, ignore_index=True)"
   ]
  },
  {
   "cell_type": "code",
   "execution_count": null,
   "id": "c074c90c",
   "metadata": {},
   "outputs": [
    {
     "data": {
      "text/html": [
       "<div>\n",
       "<style scoped>\n",
       "    .dataframe tbody tr th:only-of-type {\n",
       "        vertical-align: middle;\n",
       "    }\n",
       "\n",
       "    .dataframe tbody tr th {\n",
       "        vertical-align: top;\n",
       "    }\n",
       "\n",
       "    .dataframe thead th {\n",
       "        text-align: right;\n",
       "    }\n",
       "</style>\n",
       "<table border=\"1\" class=\"dataframe\">\n",
       "  <thead>\n",
       "    <tr style=\"text-align: right;\">\n",
       "      <th></th>\n",
       "      <th>Data Base</th>\n",
       "      <th>Data Pagamento</th>\n",
       "      <th>Cotação Base</th>\n",
       "      <th>Dividend Yield</th>\n",
       "      <th>Rendimento</th>\n",
       "      <th>NomeFii</th>\n",
       "    </tr>\n",
       "  </thead>\n",
       "  <tbody>\n",
       "    <tr>\n",
       "      <th>0</th>\n",
       "      <td>15.09.2023</td>\n",
       "      <td>22.09.2023</td>\n",
       "      <td>R$ 98,23</td>\n",
       "      <td>1,07%</td>\n",
       "      <td>R$ 1,05</td>\n",
       "      <td>AFHI11</td>\n",
       "    </tr>\n",
       "    <tr>\n",
       "      <th>1</th>\n",
       "      <td>14.08.2023</td>\n",
       "      <td>21.08.2023</td>\n",
       "      <td>R$ 97,87</td>\n",
       "      <td>1,07%</td>\n",
       "      <td>R$ 1,05</td>\n",
       "      <td>AFHI11</td>\n",
       "    </tr>\n",
       "    <tr>\n",
       "      <th>2</th>\n",
       "      <td>14.07.2023</td>\n",
       "      <td>21.07.2023</td>\n",
       "      <td>R$ 98,75</td>\n",
       "      <td>1,11%</td>\n",
       "      <td>R$ 1,10</td>\n",
       "      <td>AFHI11</td>\n",
       "    </tr>\n",
       "    <tr>\n",
       "      <th>3</th>\n",
       "      <td>15.06.2023</td>\n",
       "      <td>22.06.2023</td>\n",
       "      <td>R$ 97,97</td>\n",
       "      <td>1,12%</td>\n",
       "      <td>R$ 1,10</td>\n",
       "      <td>AFHI11</td>\n",
       "    </tr>\n",
       "    <tr>\n",
       "      <th>4</th>\n",
       "      <td>15.05.2023</td>\n",
       "      <td>22.05.2023</td>\n",
       "      <td>R$ 95,35</td>\n",
       "      <td>1,15%</td>\n",
       "      <td>R$ 1,10</td>\n",
       "      <td>AFHI11</td>\n",
       "    </tr>\n",
       "    <tr>\n",
       "      <th>...</th>\n",
       "      <td>...</td>\n",
       "      <td>...</td>\n",
       "      <td>...</td>\n",
       "      <td>...</td>\n",
       "      <td>...</td>\n",
       "      <td>...</td>\n",
       "    </tr>\n",
       "    <tr>\n",
       "      <th>715</th>\n",
       "      <td>30.05.2018</td>\n",
       "      <td>14.06.2018</td>\n",
       "      <td>R$ 99,42</td>\n",
       "      <td>0,62%</td>\n",
       "      <td>R$ 0,62</td>\n",
       "      <td>MALL11</td>\n",
       "    </tr>\n",
       "    <tr>\n",
       "      <th>716</th>\n",
       "      <td>30.04.2018</td>\n",
       "      <td>15.05.2018</td>\n",
       "      <td>R$ 105,30</td>\n",
       "      <td>0,58%</td>\n",
       "      <td>R$ 0,61</td>\n",
       "      <td>MALL11</td>\n",
       "    </tr>\n",
       "    <tr>\n",
       "      <th>717</th>\n",
       "      <td>29.03.2018</td>\n",
       "      <td>13.04.2018</td>\n",
       "      <td>R$ 102,95</td>\n",
       "      <td>0,65%</td>\n",
       "      <td>R$ 0,67</td>\n",
       "      <td>MALL11</td>\n",
       "    </tr>\n",
       "    <tr>\n",
       "      <th>718</th>\n",
       "      <td>28.02.2018</td>\n",
       "      <td>14.03.2018</td>\n",
       "      <td>R$ 103,20</td>\n",
       "      <td>0,48%</td>\n",
       "      <td>R$ 0,50</td>\n",
       "      <td>MALL11</td>\n",
       "    </tr>\n",
       "    <tr>\n",
       "      <th>719</th>\n",
       "      <td>31.01.2018</td>\n",
       "      <td>16.02.2018</td>\n",
       "      <td>R$ 103,10</td>\n",
       "      <td>0,47%</td>\n",
       "      <td>R$ 0,48</td>\n",
       "      <td>MALL11</td>\n",
       "    </tr>\n",
       "  </tbody>\n",
       "</table>\n",
       "<p>720 rows × 6 columns</p>\n",
       "</div>"
      ],
      "text/plain": [
       "      Data Base Data Pagamento Cotação Base Dividend Yield Rendimento NomeFii\n",
       "0    15.09.2023     22.09.2023     R$ 98,23          1,07%    R$ 1,05  AFHI11\n",
       "1    14.08.2023     21.08.2023     R$ 97,87          1,07%    R$ 1,05  AFHI11\n",
       "2    14.07.2023     21.07.2023     R$ 98,75          1,11%    R$ 1,10  AFHI11\n",
       "3    15.06.2023     22.06.2023     R$ 97,97          1,12%    R$ 1,10  AFHI11\n",
       "4    15.05.2023     22.05.2023     R$ 95,35          1,15%    R$ 1,10  AFHI11\n",
       "..          ...            ...          ...            ...        ...     ...\n",
       "715  30.05.2018     14.06.2018     R$ 99,42          0,62%    R$ 0,62  MALL11\n",
       "716  30.04.2018     15.05.2018    R$ 105,30          0,58%    R$ 0,61  MALL11\n",
       "717  29.03.2018     13.04.2018    R$ 102,95          0,65%    R$ 0,67  MALL11\n",
       "718  28.02.2018     14.03.2018    R$ 103,20          0,48%    R$ 0,50  MALL11\n",
       "719  31.01.2018     16.02.2018    R$ 103,10          0,47%    R$ 0,48  MALL11\n",
       "\n",
       "[720 rows x 6 columns]"
      ]
     },
     "metadata": {},
     "output_type": "display_data"
    }
   ],
   "source": [
    "##Joga o Dataframe inteiro em um arquivo consolidado csv \n",
    "integra_df.to_csv(r'C:\\Users\\User\\Downloads\\PlanilhaConsolidado.csv', sep=';', encoding='ANSI',index=False)\n",
    "integra_df\n",
    "\n",
    "# Colunas ['Data Base', 'Data Pagamento', 'Cotação Base', 'Dividend Yield', 'Rendimento', 'NomeFii'])\n"
   ]
  },
  {
   "cell_type": "code",
   "execution_count": null,
   "id": "37c4722d",
   "metadata": {},
   "outputs": [
    {
     "data": {
      "text/html": [
       "<div>\n",
       "<style scoped>\n",
       "    .dataframe tbody tr th:only-of-type {\n",
       "        vertical-align: middle;\n",
       "    }\n",
       "\n",
       "    .dataframe tbody tr th {\n",
       "        vertical-align: top;\n",
       "    }\n",
       "\n",
       "    .dataframe thead th {\n",
       "        text-align: right;\n",
       "    }\n",
       "</style>\n",
       "<table border=\"1\" class=\"dataframe\">\n",
       "  <thead>\n",
       "    <tr style=\"text-align: right;\">\n",
       "      <th></th>\n",
       "      <th>Data Base</th>\n",
       "      <th>Data Pagamento</th>\n",
       "      <th>Cotação Base</th>\n",
       "      <th>Dividend Yield</th>\n",
       "      <th>Rendimento</th>\n",
       "      <th>NomeFii</th>\n",
       "    </tr>\n",
       "  </thead>\n",
       "  <tbody>\n",
       "    <tr>\n",
       "      <th>651</th>\n",
       "      <td>29.09.2023</td>\n",
       "      <td>16.10.2023</td>\n",
       "      <td>R$ 117,69</td>\n",
       "      <td>0,72%</td>\n",
       "      <td>R$ 0,85</td>\n",
       "      <td>MALL11</td>\n",
       "    </tr>\n",
       "    <tr>\n",
       "      <th>652</th>\n",
       "      <td>31.08.2023</td>\n",
       "      <td>15.09.2023</td>\n",
       "      <td>R$ 117,31</td>\n",
       "      <td>0,72%</td>\n",
       "      <td>R$ 0,85</td>\n",
       "      <td>MALL11</td>\n",
       "    </tr>\n",
       "    <tr>\n",
       "      <th>653</th>\n",
       "      <td>31.07.2023</td>\n",
       "      <td>14.08.2023</td>\n",
       "      <td>R$ 115,50</td>\n",
       "      <td>0,69%</td>\n",
       "      <td>R$ 0,80</td>\n",
       "      <td>MALL11</td>\n",
       "    </tr>\n",
       "    <tr>\n",
       "      <th>654</th>\n",
       "      <td>30.06.2023</td>\n",
       "      <td>14.07.2023</td>\n",
       "      <td>R$ 117,48</td>\n",
       "      <td>0,68%</td>\n",
       "      <td>R$ 0,80</td>\n",
       "      <td>MALL11</td>\n",
       "    </tr>\n",
       "    <tr>\n",
       "      <th>655</th>\n",
       "      <td>31.05.2023</td>\n",
       "      <td>15.06.2023</td>\n",
       "      <td>R$ 109,50</td>\n",
       "      <td>0,71%</td>\n",
       "      <td>R$ 0,78</td>\n",
       "      <td>MALL11</td>\n",
       "    </tr>\n",
       "    <tr>\n",
       "      <th>...</th>\n",
       "      <td>...</td>\n",
       "      <td>...</td>\n",
       "      <td>...</td>\n",
       "      <td>...</td>\n",
       "      <td>...</td>\n",
       "      <td>...</td>\n",
       "    </tr>\n",
       "    <tr>\n",
       "      <th>715</th>\n",
       "      <td>30.05.2018</td>\n",
       "      <td>14.06.2018</td>\n",
       "      <td>R$ 99,42</td>\n",
       "      <td>0,62%</td>\n",
       "      <td>R$ 0,62</td>\n",
       "      <td>MALL11</td>\n",
       "    </tr>\n",
       "    <tr>\n",
       "      <th>716</th>\n",
       "      <td>30.04.2018</td>\n",
       "      <td>15.05.2018</td>\n",
       "      <td>R$ 105,30</td>\n",
       "      <td>0,58%</td>\n",
       "      <td>R$ 0,61</td>\n",
       "      <td>MALL11</td>\n",
       "    </tr>\n",
       "    <tr>\n",
       "      <th>717</th>\n",
       "      <td>29.03.2018</td>\n",
       "      <td>13.04.2018</td>\n",
       "      <td>R$ 102,95</td>\n",
       "      <td>0,65%</td>\n",
       "      <td>R$ 0,67</td>\n",
       "      <td>MALL11</td>\n",
       "    </tr>\n",
       "    <tr>\n",
       "      <th>718</th>\n",
       "      <td>28.02.2018</td>\n",
       "      <td>14.03.2018</td>\n",
       "      <td>R$ 103,20</td>\n",
       "      <td>0,48%</td>\n",
       "      <td>R$ 0,50</td>\n",
       "      <td>MALL11</td>\n",
       "    </tr>\n",
       "    <tr>\n",
       "      <th>719</th>\n",
       "      <td>31.01.2018</td>\n",
       "      <td>16.02.2018</td>\n",
       "      <td>R$ 103,10</td>\n",
       "      <td>0,47%</td>\n",
       "      <td>R$ 0,48</td>\n",
       "      <td>MALL11</td>\n",
       "    </tr>\n",
       "  </tbody>\n",
       "</table>\n",
       "<p>69 rows × 6 columns</p>\n",
       "</div>"
      ],
      "text/plain": [
       "      Data Base Data Pagamento Cotação Base Dividend Yield Rendimento NomeFii\n",
       "651  29.09.2023     16.10.2023    R$ 117,69          0,72%    R$ 0,85  MALL11\n",
       "652  31.08.2023     15.09.2023    R$ 117,31          0,72%    R$ 0,85  MALL11\n",
       "653  31.07.2023     14.08.2023    R$ 115,50          0,69%    R$ 0,80  MALL11\n",
       "654  30.06.2023     14.07.2023    R$ 117,48          0,68%    R$ 0,80  MALL11\n",
       "655  31.05.2023     15.06.2023    R$ 109,50          0,71%    R$ 0,78  MALL11\n",
       "..          ...            ...          ...            ...        ...     ...\n",
       "715  30.05.2018     14.06.2018     R$ 99,42          0,62%    R$ 0,62  MALL11\n",
       "716  30.04.2018     15.05.2018    R$ 105,30          0,58%    R$ 0,61  MALL11\n",
       "717  29.03.2018     13.04.2018    R$ 102,95          0,65%    R$ 0,67  MALL11\n",
       "718  28.02.2018     14.03.2018    R$ 103,20          0,48%    R$ 0,50  MALL11\n",
       "719  31.01.2018     16.02.2018    R$ 103,10          0,47%    R$ 0,48  MALL11\n",
       "\n",
       "[69 rows x 6 columns]"
      ]
     },
     "metadata": {},
     "output_type": "display_data"
    }
   ],
   "source": [
    "#Leremos o CSV (por desencargo de exercicio, poderia ser feito ja com o integra_df \n",
    "\n",
    "ler = pd.read_csv(r'C:\\Users\\User\\Documents\\PlanilhaConsolidado.csv', encoding='ANSI',sep=';') \n",
    "#ler\n",
    "for ind in ativos.index:\n",
    "    pesquisa = ativos.loc[ativos.index[ind]]    #pesquisa vai guardar as infos de cada index, começando do 0\n",
    "    #print(pesquisa)                             #Veremos algo do tipo: nome    AFHI11    Name: 0, dtype: object \n",
    "    pesquisa = pesquisa['nome']                 #Como só interessa a coluna nome, iremos filtrar por ela\n",
    "    FIIespecifico = ler.loc[ler['NomeFii'] == pesquisa]\n",
    "    FIIespecifico\n",
    "\n"
   ]
  },
  {
   "cell_type": "code",
   "execution_count": null,
   "id": "8ef73a0d",
   "metadata": {},
   "outputs": [],
   "source": []
  }
 ],
 "metadata": {
  "kernelspec": {
   "display_name": "Python 3 (ipykernel)",
   "language": "python",
   "name": "python3"
  },
  "language_info": {
   "codemirror_mode": {
    "name": "ipython",
    "version": 3
   },
   "file_extension": ".py",
   "mimetype": "text/x-python",
   "name": "python",
   "nbconvert_exporter": "python",
   "pygments_lexer": "ipython3",
   "version": "3.9.13"
  }
 },
 "nbformat": 4,
 "nbformat_minor": 5
}
