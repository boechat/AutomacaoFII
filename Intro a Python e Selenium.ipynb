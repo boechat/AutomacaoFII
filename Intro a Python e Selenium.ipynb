{
 "cells": [
  {
   "cell_type": "markdown",
   "id": "4baad5bb",
   "metadata": {},
   "source": [
    "<h1>Python + Selenium </h1>\n",
    "\n",
    "* Instalar o Selenium\n",
    "#abrir o prompt e dar pip install selenium\n",
    "* Baixar o WebDriver (chromedriver)\n",
    "<br>#webdriver é um arquivo que vai permitir o python a integrar ao navegador; para isso é necessário pegar o webdriver dos navegadores distintos que vc irá usar.\n",
    "<br>#colocar o arquivo onde está instalado o python(python.exe), no caso em C:\\Users\\User\\anaconda3\\"
   ]
  },
  {
   "cell_type": "code",
   "execution_count": 111,
   "id": "cf687e1a",
   "metadata": {},
   "outputs": [],
   "source": [
    "from selenium import webdriver\n",
    "navegador = webdriver.Chrome()\n",
    "##navegador.get vai até uma pagina\n",
    "site_investimento = (\"https://fiis.com.br/\")\n",
    "#print(site_investimento)\n",
    "navegador.get(site_investimento)\n",
    "##procura pelo xpath e clica\n",
    "#navegador.find_element(\"xpath\", '//*[@id=\"fii-section\"]/div/div/div[2]/div[3]/div/div[1]/div[2]/div/span').click()"
   ]
  },
  {
   "cell_type": "code",
   "execution_count": 112,
   "id": "0760aaf3",
   "metadata": {
    "scrolled": true
   },
   "outputs": [
    {
     "data": {
      "text/html": [
       "<div>\n",
       "<style scoped>\n",
       "    .dataframe tbody tr th:only-of-type {\n",
       "        vertical-align: middle;\n",
       "    }\n",
       "\n",
       "    .dataframe tbody tr th {\n",
       "        vertical-align: top;\n",
       "    }\n",
       "\n",
       "    .dataframe thead th {\n",
       "        text-align: right;\n",
       "    }\n",
       "</style>\n",
       "<table border=\"1\" class=\"dataframe\">\n",
       "  <thead>\n",
       "    <tr style=\"text-align: right;\">\n",
       "      <th></th>\n",
       "      <th>nome</th>\n",
       "    </tr>\n",
       "  </thead>\n",
       "  <tbody>\n",
       "    <tr>\n",
       "      <th>0</th>\n",
       "      <td>AFHI11</td>\n",
       "    </tr>\n",
       "    <tr>\n",
       "      <th>1</th>\n",
       "      <td>SDIL11</td>\n",
       "    </tr>\n",
       "    <tr>\n",
       "      <th>2</th>\n",
       "      <td>XPML11</td>\n",
       "    </tr>\n",
       "    <tr>\n",
       "      <th>3</th>\n",
       "      <td>IRDM11</td>\n",
       "    </tr>\n",
       "    <tr>\n",
       "      <th>4</th>\n",
       "      <td>RBVA11</td>\n",
       "    </tr>\n",
       "    <tr>\n",
       "      <th>5</th>\n",
       "      <td>RBED11</td>\n",
       "    </tr>\n",
       "    <tr>\n",
       "      <th>6</th>\n",
       "      <td>FLMA11</td>\n",
       "    </tr>\n",
       "    <tr>\n",
       "      <th>7</th>\n",
       "      <td>TRXF11</td>\n",
       "    </tr>\n",
       "    <tr>\n",
       "      <th>8</th>\n",
       "      <td>HGRU11</td>\n",
       "    </tr>\n",
       "    <tr>\n",
       "      <th>9</th>\n",
       "      <td>TRBL11</td>\n",
       "    </tr>\n",
       "    <tr>\n",
       "      <th>10</th>\n",
       "      <td>KNSC11</td>\n",
       "    </tr>\n",
       "    <tr>\n",
       "      <th>11</th>\n",
       "      <td>MALL11</td>\n",
       "    </tr>\n",
       "  </tbody>\n",
       "</table>\n",
       "</div>"
      ],
      "text/plain": [
       "      nome\n",
       "0   AFHI11\n",
       "1   SDIL11\n",
       "2   XPML11\n",
       "3   IRDM11\n",
       "4   RBVA11\n",
       "5   RBED11\n",
       "6   FLMA11\n",
       "7   TRXF11\n",
       "8   HGRU11\n",
       "9   TRBL11\n",
       "10  KNSC11\n",
       "11  MALL11"
      ]
     },
     "execution_count": 112,
     "metadata": {},
     "output_type": "execute_result"
    }
   ],
   "source": [
    "import pandas as pd\n",
    "#Criaremos um dataframe coms os ativos que vão ser pesquisados\n",
    "ativos = pd.DataFrame({\"nome\":[\"AFHI11\",\"SDIL11\",\"XPML11\",\"IRDM11\",\"RBVA11\",\"RBED11\",\"FLMA11\",\"TRXF11\",\"HGRU11\",\"TRBL11\",\"KNSC11\",\"MALL11\"]})\n",
    "ativos"
   ]
  },
  {
   "cell_type": "code",
   "execution_count": 113,
   "id": "cc649e4b",
   "metadata": {},
   "outputs": [
    {
     "name": "stdout",
     "output_type": "stream",
     "text": [
      "AFHI11 Rendeu no Ultimo mês 1,05\n",
      "SDIL11 Rendeu no Ultimo mês 0,75\n",
      "XPML11 Rendeu no Ultimo mês 0,85\n",
      "IRDM11 Rendeu no Ultimo mês 0,74\n",
      "RBVA11 Rendeu no Ultimo mês 1,00\n",
      "RBED11 Rendeu no Ultimo mês 1,43\n",
      "FLMA11 Rendeu no Ultimo mês 1,05\n",
      "TRXF11 Rendeu no Ultimo mês 0,90\n",
      "HGRU11 Rendeu no Ultimo mês 0,85\n",
      "TRBL11 Rendeu no Ultimo mês 0,72\n",
      "KNSC11 Rendeu no Ultimo mês 0,75\n",
      "MALL11 Rendeu no Ultimo mês 0,85\n"
     ]
    }
   ],
   "source": [
    "from selenium.webdriver.common.by import By\n",
    "#Importaremos a biblioteca By\n",
    "\n",
    "#Faremos uma iteração aqui, criando o indicador IND, procurando pelo index de ativos(ativos.index)\n",
    "for ind in ativos.index:\n",
    "    pesquisa = ativos.loc[ativos.index[ind]]    #pesquia vai guardar as infos de cada index, começando do 0\n",
    "    #print(pesquisa)                             #Veremos algo do tipo: nome    AFHI11    Name: 0, dtype: object \n",
    "    pesquisa = pesquisa['nome']                 #Como só interessa a coluna nome, iremos filtrar por ela\n",
    "    #print(pesquisa)                             #aqui teremos só a coluna nome do index, que será AFHI11\n",
    "    url = (site_investimento+pesquisa)           #Puxando o Site_investimento (fiis.com),iremos criar a string com o nome\n",
    "    #print(url)\n",
    "    navegador.get(url)                           #Puxaremos então a url  fiis.com.br/nome atual\n",
    "    #print('Novo CICLO!  ',ind)\n",
    "    \n",
    "    #Busca Elemento Na Tabela\n",
    "    #tabela = navegador.find_element(By.XPATH, '//*[@id=\"carbon_fields_fiis_dividends-2\"]/div[2]/div[2]')\n",
    "    #print(tabela.text)\n",
    "    #teste = pd.DataFrame({tabela.text})\n",
    "    #teste = teste.transpose\n",
    "    #print(teste)\n",
    "    #teste.to_csv(r'C:\\Users\\User\\Downloads\\teste.csv', sep='\\n', encoding='ANSI',index=False)\n",
    "    \n",
    "    #Busca Elemento\n",
    "    ult_rend = navegador.find_element(By.XPATH, '//*[@id=\"carbon_fields_fiis_header-2\"]/div/div/div[1]/div[2]/div/div[2]/p[1]/b')\n",
    "    print(pesquisa + ' Rendeu no Ultimo mês ' + ult_rend.text)\n"
   ]
  },
  {
   "cell_type": "code",
   "execution_count": null,
   "id": "feb7eaff",
   "metadata": {},
   "outputs": [],
   "source": []
  },
  {
   "cell_type": "code",
   "execution_count": null,
   "id": "a9dbe502",
   "metadata": {},
   "outputs": [],
   "source": []
  }
 ],
 "metadata": {
  "kernelspec": {
   "display_name": "Python 3 (ipykernel)",
   "language": "python",
   "name": "python3"
  },
  "language_info": {
   "codemirror_mode": {
    "name": "ipython",
    "version": 3
   },
   "file_extension": ".py",
   "mimetype": "text/x-python",
   "name": "python",
   "nbconvert_exporter": "python",
   "pygments_lexer": "ipython3",
   "version": "3.9.13"
  }
 },
 "nbformat": 4,
 "nbformat_minor": 5
}
